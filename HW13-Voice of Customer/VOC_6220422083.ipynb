{
 "cells": [
  {
   "cell_type": "markdown",
   "metadata": {
    "id": "WrQbd86APp-2"
   },
   "source": [
    "**Step 0 - install and import dependencies**"
   ]
  },
  {
   "cell_type": "code",
   "execution_count": 1,
   "metadata": {
    "colab": {
     "base_uri": "https://localhost:8080/"
    },
    "id": "bF2rn-l5Rp4U",
    "outputId": "2fbeef4a-2907-44d9-f557-4c91429ddd4e",
    "scrolled": true
   },
   "outputs": [
    {
     "name": "stdout",
     "output_type": "stream",
     "text": [
      "Collecting pythainlp\n",
      "  Downloading pythainlp-2.3.2-py3-none-any.whl (11.0 MB)\n",
      "Requirement already satisfied: requests>=2.22.0 in c:\\users\\user\\appdata\\local\\programs\\python\\python37\\lib\\site-packages (from pythainlp) (2.25.1)\n",
      "Collecting tinydb>=3.0\n",
      "  Downloading tinydb-4.5.2-py3-none-any.whl (23 kB)\n",
      "Collecting python-crfsuite>=0.9.6\n",
      "  Downloading python_crfsuite-0.9.7-cp37-cp37m-win_amd64.whl (154 kB)\n",
      "Requirement already satisfied: idna<3,>=2.5 in c:\\users\\user\\appdata\\local\\programs\\python\\python37\\lib\\site-packages (from requests>=2.22.0->pythainlp) (2.10)\n",
      "Requirement already satisfied: chardet<5,>=3.0.2 in c:\\users\\user\\appdata\\local\\programs\\python\\python37\\lib\\site-packages (from requests>=2.22.0->pythainlp) (4.0.0)\n",
      "Requirement already satisfied: certifi>=2017.4.17 in c:\\users\\user\\appdata\\local\\programs\\python\\python37\\lib\\site-packages (from requests>=2.22.0->pythainlp) (2021.5.30)\n",
      "Requirement already satisfied: urllib3<1.27,>=1.21.1 in c:\\users\\user\\appdata\\local\\programs\\python\\python37\\lib\\site-packages (from requests>=2.22.0->pythainlp) (1.26.5)\n",
      "Requirement already satisfied: typing-extensions<4.0.0,>=3.10.0 in c:\\users\\user\\appdata\\local\\programs\\python\\python37\\lib\\site-packages (from tinydb>=3.0->pythainlp) (3.10.0.0)\n",
      "Installing collected packages: tinydb, python-crfsuite, pythainlp\n",
      "Successfully installed pythainlp-2.3.2 python-crfsuite-0.9.7 tinydb-4.5.2\n"
     ]
    },
    {
     "name": "stderr",
     "output_type": "stream",
     "text": [
      "WARNING: Ignoring invalid distribution -pencv-python (c:\\users\\user\\appdata\\local\\programs\\python\\python37\\lib\\site-packages)\n",
      "WARNING: Ignoring invalid distribution - (c:\\users\\user\\appdata\\local\\programs\\python\\python37\\lib\\site-packages)\n",
      "WARNING: Ignoring invalid distribution -pencv-python (c:\\users\\user\\appdata\\local\\programs\\python\\python37\\lib\\site-packages)\n",
      "WARNING: Ignoring invalid distribution - (c:\\users\\user\\appdata\\local\\programs\\python\\python37\\lib\\site-packages)\n",
      "WARNING: Ignoring invalid distribution -pencv-python (c:\\users\\user\\appdata\\local\\programs\\python\\python37\\lib\\site-packages)\n",
      "WARNING: Ignoring invalid distribution - (c:\\users\\user\\appdata\\local\\programs\\python\\python37\\lib\\site-packages)\n",
      "WARNING: Ignoring invalid distribution -pencv-python (c:\\users\\user\\appdata\\local\\programs\\python\\python37\\lib\\site-packages)\n",
      "WARNING: Ignoring invalid distribution - (c:\\users\\user\\appdata\\local\\programs\\python\\python37\\lib\\site-packages)\n",
      "WARNING: Ignoring invalid distribution -pencv-python (c:\\users\\user\\appdata\\local\\programs\\python\\python37\\lib\\site-packages)\n",
      "WARNING: Ignoring invalid distribution - (c:\\users\\user\\appdata\\local\\programs\\python\\python37\\lib\\site-packages)\n",
      "WARNING: Ignoring invalid distribution -pencv-python (c:\\users\\user\\appdata\\local\\programs\\python\\python37\\lib\\site-packages)\n",
      "WARNING: Ignoring invalid distribution - (c:\\users\\user\\appdata\\local\\programs\\python\\python37\\lib\\site-packages)\n",
      "WARNING: Ignoring invalid distribution -pencv-python (c:\\users\\user\\appdata\\local\\programs\\python\\python37\\lib\\site-packages)\n",
      "WARNING: Ignoring invalid distribution - (c:\\users\\user\\appdata\\local\\programs\\python\\python37\\lib\\site-packages)\n",
      "WARNING: Ignoring invalid distribution -pencv-python (c:\\users\\user\\appdata\\local\\programs\\python\\python37\\lib\\site-packages)\n",
      "WARNING: Ignoring invalid distribution - (c:\\users\\user\\appdata\\local\\programs\\python\\python37\\lib\\site-packages)\n",
      "WARNING: Ignoring invalid distribution -pencv-python (c:\\users\\user\\appdata\\local\\programs\\python\\python37\\lib\\site-packages)\n",
      "WARNING: Ignoring invalid distribution - (c:\\users\\user\\appdata\\local\\programs\\python\\python37\\lib\\site-packages)\n",
      "WARNING: You are using pip version 21.1.3; however, version 21.3.1 is available.\n",
      "You should consider upgrading via the 'c:\\users\\user\\appdata\\local\\programs\\python\\python37\\python.exe -m pip install --upgrade pip' command.\n"
     ]
    },
    {
     "name": "stdout",
     "output_type": "stream",
     "text": [
      "Collecting tensorflow_text\n",
      "  Downloading tensorflow_text-2.7.3-cp37-cp37m-win_amd64.whl (2.5 MB)\n",
      "Collecting tensorflow<2.8,>=2.7.0\n",
      "  Downloading tensorflow-2.7.0-cp37-cp37m-win_amd64.whl (430.8 MB)\n",
      "Collecting tensorflow-hub>=0.8.0\n",
      "  Downloading tensorflow_hub-0.12.0-py2.py3-none-any.whl (108 kB)\n",
      "Requirement already satisfied: wheel<1.0,>=0.32.0 in c:\\users\\user\\appdata\\local\\programs\\python\\python37\\lib\\site-packages (from tensorflow<2.8,>=2.7.0->tensorflow_text) (0.37.0)\n",
      "Collecting gast<0.5.0,>=0.2.1\n",
      "  Downloading gast-0.4.0-py3-none-any.whl (9.8 kB)\n",
      "Collecting libclang>=9.0.1\n",
      "  Downloading libclang-12.0.0-py2.py3-none-win_amd64.whl (13.1 MB)\n",
      "Requirement already satisfied: typing-extensions>=3.6.6 in c:\\users\\user\\appdata\\local\\programs\\python\\python37\\lib\\site-packages (from tensorflow<2.8,>=2.7.0->tensorflow_text) (3.10.0.0)\n",
      "Collecting google-pasta>=0.1.1\n",
      "  Downloading google_pasta-0.2.0-py3-none-any.whl (57 kB)\n",
      "Collecting keras<2.8,>=2.7.0rc0\n",
      "  Downloading keras-2.7.0-py2.py3-none-any.whl (1.3 MB)\n",
      "Collecting astunparse>=1.6.0\n",
      "  Downloading astunparse-1.6.3-py2.py3-none-any.whl (12 kB)\n",
      "Requirement already satisfied: six>=1.12.0 in c:\\users\\user\\appdata\\local\\programs\\python\\python37\\lib\\site-packages (from tensorflow<2.8,>=2.7.0->tensorflow_text) (1.16.0)\n",
      "Requirement already satisfied: grpcio<2.0,>=1.24.3 in c:\\users\\user\\appdata\\local\\programs\\python\\python37\\lib\\site-packages (from tensorflow<2.8,>=2.7.0->tensorflow_text) (1.40.0)\n",
      "Collecting tensorflow-io-gcs-filesystem>=0.21.0\n",
      "  Downloading tensorflow_io_gcs_filesystem-0.22.0-cp37-cp37m-win_amd64.whl (1.5 MB)\n",
      "Requirement already satisfied: numpy>=1.14.5 in c:\\users\\user\\appdata\\local\\programs\\python\\python37\\lib\\site-packages (from tensorflow<2.8,>=2.7.0->tensorflow_text) (1.21.1)\n",
      "Collecting termcolor>=1.1.0\n",
      "  Downloading termcolor-1.1.0.tar.gz (3.9 kB)\n",
      "Requirement already satisfied: tensorboard~=2.6 in c:\\users\\user\\appdata\\local\\programs\\python\\python37\\lib\\site-packages (from tensorflow<2.8,>=2.7.0->tensorflow_text) (2.6.0)\n",
      "Collecting wrapt>=1.11.0\n",
      "  Downloading wrapt-1.13.3-cp37-cp37m-win_amd64.whl (34 kB)\n",
      "Collecting keras-preprocessing>=1.1.1\n",
      "  Downloading Keras_Preprocessing-1.1.2-py2.py3-none-any.whl (42 kB)\n",
      "Collecting opt-einsum>=2.3.2\n",
      "  Downloading opt_einsum-3.3.0-py3-none-any.whl (65 kB)\n",
      "Requirement already satisfied: protobuf>=3.9.2 in c:\\users\\user\\appdata\\local\\programs\\python\\python37\\lib\\site-packages (from tensorflow<2.8,>=2.7.0->tensorflow_text) (3.17.3)\n",
      "Requirement already satisfied: absl-py>=0.4.0 in c:\\users\\user\\appdata\\local\\programs\\python\\python37\\lib\\site-packages (from tensorflow<2.8,>=2.7.0->tensorflow_text) (0.14.0)\n",
      "Collecting tensorflow-estimator<2.8,~=2.7.0rc0\n",
      "  Downloading tensorflow_estimator-2.7.0-py2.py3-none-any.whl (463 kB)\n",
      "Collecting flatbuffers<3.0,>=1.12\n",
      "  Downloading flatbuffers-2.0-py2.py3-none-any.whl (26 kB)\n",
      "Requirement already satisfied: h5py>=2.9.0 in c:\\users\\user\\appdata\\local\\programs\\python\\python37\\lib\\site-packages (from tensorflow<2.8,>=2.7.0->tensorflow_text) (3.4.0)\n",
      "Requirement already satisfied: cached-property in c:\\users\\user\\appdata\\local\\programs\\python\\python37\\lib\\site-packages (from h5py>=2.9.0->tensorflow<2.8,>=2.7.0->tensorflow_text) (1.5.2)\n",
      "Requirement already satisfied: requests<3,>=2.21.0 in c:\\users\\user\\appdata\\local\\programs\\python\\python37\\lib\\site-packages (from tensorboard~=2.6->tensorflow<2.8,>=2.7.0->tensorflow_text) (2.25.1)\n",
      "Requirement already satisfied: tensorboard-data-server<0.7.0,>=0.6.0 in c:\\users\\user\\appdata\\local\\programs\\python\\python37\\lib\\site-packages (from tensorboard~=2.6->tensorflow<2.8,>=2.7.0->tensorflow_text) (0.6.1)\n",
      "Requirement already satisfied: google-auth-oauthlib<0.5,>=0.4.1 in c:\\users\\user\\appdata\\local\\programs\\python\\python37\\lib\\site-packages (from tensorboard~=2.6->tensorflow<2.8,>=2.7.0->tensorflow_text) (0.4.6)\n",
      "Requirement already satisfied: tensorboard-plugin-wit>=1.6.0 in c:\\users\\user\\appdata\\local\\programs\\python\\python37\\lib\\site-packages (from tensorboard~=2.6->tensorflow<2.8,>=2.7.0->tensorflow_text) (1.8.0)\n",
      "Requirement already satisfied: google-auth<2,>=1.6.3 in c:\\users\\user\\appdata\\local\\programs\\python\\python37\\lib\\site-packages (from tensorboard~=2.6->tensorflow<2.8,>=2.7.0->tensorflow_text) (1.35.0)\n",
      "Requirement already satisfied: setuptools>=41.0.0 in c:\\users\\user\\appdata\\local\\programs\\python\\python37\\lib\\site-packages (from tensorboard~=2.6->tensorflow<2.8,>=2.7.0->tensorflow_text) (58.1.0)\n",
      "Requirement already satisfied: werkzeug>=0.11.15 in c:\\users\\user\\appdata\\local\\programs\\python\\python37\\lib\\site-packages (from tensorboard~=2.6->tensorflow<2.8,>=2.7.0->tensorflow_text) (2.0.1)\n",
      "Requirement already satisfied: markdown>=2.6.8 in c:\\users\\user\\appdata\\local\\programs\\python\\python37\\lib\\site-packages (from tensorboard~=2.6->tensorflow<2.8,>=2.7.0->tensorflow_text) (3.3.4)\n",
      "Requirement already satisfied: rsa<5,>=3.1.4 in c:\\users\\user\\appdata\\local\\programs\\python\\python37\\lib\\site-packages (from google-auth<2,>=1.6.3->tensorboard~=2.6->tensorflow<2.8,>=2.7.0->tensorflow_text) (4.7.2)\n",
      "Requirement already satisfied: pyasn1-modules>=0.2.1 in c:\\users\\user\\appdata\\local\\programs\\python\\python37\\lib\\site-packages (from google-auth<2,>=1.6.3->tensorboard~=2.6->tensorflow<2.8,>=2.7.0->tensorflow_text) (0.2.8)\n",
      "Requirement already satisfied: cachetools<5.0,>=2.0.0 in c:\\users\\user\\appdata\\local\\programs\\python\\python37\\lib\\site-packages (from google-auth<2,>=1.6.3->tensorboard~=2.6->tensorflow<2.8,>=2.7.0->tensorflow_text) (4.2.2)\n",
      "Requirement already satisfied: requests-oauthlib>=0.7.0 in c:\\users\\user\\appdata\\local\\programs\\python\\python37\\lib\\site-packages (from google-auth-oauthlib<0.5,>=0.4.1->tensorboard~=2.6->tensorflow<2.8,>=2.7.0->tensorflow_text) (1.3.0)\n",
      "Requirement already satisfied: importlib-metadata in c:\\users\\user\\appdata\\local\\programs\\python\\python37\\lib\\site-packages (from markdown>=2.6.8->tensorboard~=2.6->tensorflow<2.8,>=2.7.0->tensorflow_text) (4.5.0)\n",
      "Requirement already satisfied: pyasn1<0.5.0,>=0.4.6 in c:\\users\\user\\appdata\\local\\programs\\python\\python37\\lib\\site-packages (from pyasn1-modules>=0.2.1->google-auth<2,>=1.6.3->tensorboard~=2.6->tensorflow<2.8,>=2.7.0->tensorflow_text) (0.4.8)\n",
      "Requirement already satisfied: certifi>=2017.4.17 in c:\\users\\user\\appdata\\local\\programs\\python\\python37\\lib\\site-packages (from requests<3,>=2.21.0->tensorboard~=2.6->tensorflow<2.8,>=2.7.0->tensorflow_text) (2021.5.30)\n",
      "Requirement already satisfied: idna<3,>=2.5 in c:\\users\\user\\appdata\\local\\programs\\python\\python37\\lib\\site-packages (from requests<3,>=2.21.0->tensorboard~=2.6->tensorflow<2.8,>=2.7.0->tensorflow_text) (2.10)\n",
      "Requirement already satisfied: urllib3<1.27,>=1.21.1 in c:\\users\\user\\appdata\\local\\programs\\python\\python37\\lib\\site-packages (from requests<3,>=2.21.0->tensorboard~=2.6->tensorflow<2.8,>=2.7.0->tensorflow_text) (1.26.5)\n",
      "Requirement already satisfied: chardet<5,>=3.0.2 in c:\\users\\user\\appdata\\local\\programs\\python\\python37\\lib\\site-packages (from requests<3,>=2.21.0->tensorboard~=2.6->tensorflow<2.8,>=2.7.0->tensorflow_text) (4.0.0)\n",
      "Requirement already satisfied: oauthlib>=3.0.0 in c:\\users\\user\\appdata\\local\\programs\\python\\python37\\lib\\site-packages (from requests-oauthlib>=0.7.0->google-auth-oauthlib<0.5,>=0.4.1->tensorboard~=2.6->tensorflow<2.8,>=2.7.0->tensorflow_text) (3.1.1)\n",
      "Requirement already satisfied: zipp>=0.5 in c:\\users\\user\\appdata\\local\\programs\\python\\python37\\lib\\site-packages (from importlib-metadata->markdown>=2.6.8->tensorboard~=2.6->tensorflow<2.8,>=2.7.0->tensorflow_text) (3.4.1)\n",
      "Building wheels for collected packages: termcolor\n",
      "  Building wheel for termcolor (setup.py): started\n",
      "  Building wheel for termcolor (setup.py): finished with status 'done'\n",
      "  Created wheel for termcolor: filename=termcolor-1.1.0-py3-none-any.whl size=4847 sha256=f9f7e88b8b96f28f8867a7edb0b8f2854f9143b0caeccb01c9e861166d5e94b7\n",
      "  Stored in directory: c:\\users\\user\\appdata\\local\\pip\\cache\\wheels\\3f\\e3\\ec\\8a8336ff196023622fbcb36de0c5a5c218cbb24111d1d4c7f2\n",
      "Successfully built termcolor\n",
      "Installing collected packages: wrapt, termcolor, tensorflow-io-gcs-filesystem, tensorflow-estimator, opt-einsum, libclang, keras-preprocessing, keras, google-pasta, gast, flatbuffers, astunparse, tensorflow-hub, tensorflow, tensorflow-text\n",
      "Successfully installed astunparse-1.6.3 flatbuffers-2.0 gast-0.4.0 google-pasta-0.2.0 keras-2.7.0 keras-preprocessing-1.1.2 libclang-12.0.0 opt-einsum-3.3.0 tensorflow-2.7.0 tensorflow-estimator-2.7.0 tensorflow-hub-0.12.0 tensorflow-io-gcs-filesystem-0.22.0 tensorflow-text-2.7.3 termcolor-1.1.0 wrapt-1.13.3\n"
     ]
    },
    {
     "name": "stderr",
     "output_type": "stream",
     "text": [
      "WARNING: Ignoring invalid distribution -pencv-python (c:\\users\\user\\appdata\\local\\programs\\python\\python37\\lib\\site-packages)\n",
      "WARNING: Ignoring invalid distribution - (c:\\users\\user\\appdata\\local\\programs\\python\\python37\\lib\\site-packages)\n",
      "WARNING: Ignoring invalid distribution -pencv-python (c:\\users\\user\\appdata\\local\\programs\\python\\python37\\lib\\site-packages)\n",
      "WARNING: Ignoring invalid distribution - (c:\\users\\user\\appdata\\local\\programs\\python\\python37\\lib\\site-packages)\n",
      "WARNING: Ignoring invalid distribution -pencv-python (c:\\users\\user\\appdata\\local\\programs\\python\\python37\\lib\\site-packages)\n",
      "WARNING: Ignoring invalid distribution - (c:\\users\\user\\appdata\\local\\programs\\python\\python37\\lib\\site-packages)\n",
      "WARNING: Ignoring invalid distribution -pencv-python (c:\\users\\user\\appdata\\local\\programs\\python\\python37\\lib\\site-packages)\n",
      "WARNING: Ignoring invalid distribution - (c:\\users\\user\\appdata\\local\\programs\\python\\python37\\lib\\site-packages)\n",
      "WARNING: Ignoring invalid distribution -pencv-python (c:\\users\\user\\appdata\\local\\programs\\python\\python37\\lib\\site-packages)\n",
      "WARNING: Ignoring invalid distribution - (c:\\users\\user\\appdata\\local\\programs\\python\\python37\\lib\\site-packages)\n",
      "WARNING: Ignoring invalid distribution -pencv-python (c:\\users\\user\\appdata\\local\\programs\\python\\python37\\lib\\site-packages)\n",
      "WARNING: Ignoring invalid distribution - (c:\\users\\user\\appdata\\local\\programs\\python\\python37\\lib\\site-packages)\n",
      "WARNING: Ignoring invalid distribution -pencv-python (c:\\users\\user\\appdata\\local\\programs\\python\\python37\\lib\\site-packages)\n",
      "WARNING: Ignoring invalid distribution - (c:\\users\\user\\appdata\\local\\programs\\python\\python37\\lib\\site-packages)\n",
      "WARNING: Ignoring invalid distribution -pencv-python (c:\\users\\user\\appdata\\local\\programs\\python\\python37\\lib\\site-packages)\n",
      "WARNING: Ignoring invalid distribution - (c:\\users\\user\\appdata\\local\\programs\\python\\python37\\lib\\site-packages)\n",
      "WARNING: Ignoring invalid distribution -pencv-python (c:\\users\\user\\appdata\\local\\programs\\python\\python37\\lib\\site-packages)\n",
      "WARNING: Ignoring invalid distribution - (c:\\users\\user\\appdata\\local\\programs\\python\\python37\\lib\\site-packages)\n",
      "WARNING: Ignoring invalid distribution -pencv-python (c:\\users\\user\\appdata\\local\\programs\\python\\python37\\lib\\site-packages)\n",
      "WARNING: Ignoring invalid distribution - (c:\\users\\user\\appdata\\local\\programs\\python\\python37\\lib\\site-packages)\n",
      "WARNING: Ignoring invalid distribution -pencv-python (c:\\users\\user\\appdata\\local\\programs\\python\\python37\\lib\\site-packages)\n",
      "WARNING: Ignoring invalid distribution - (c:\\users\\user\\appdata\\local\\programs\\python\\python37\\lib\\site-packages)\n",
      "WARNING: Ignoring invalid distribution -pencv-python (c:\\users\\user\\appdata\\local\\programs\\python\\python37\\lib\\site-packages)\n",
      "WARNING: Ignoring invalid distribution - (c:\\users\\user\\appdata\\local\\programs\\python\\python37\\lib\\site-packages)\n",
      "WARNING: Ignoring invalid distribution -pencv-python (c:\\users\\user\\appdata\\local\\programs\\python\\python37\\lib\\site-packages)\n",
      "WARNING: Ignoring invalid distribution - (c:\\users\\user\\appdata\\local\\programs\\python\\python37\\lib\\site-packages)\n",
      "WARNING: Ignoring invalid distribution -pencv-python (c:\\users\\user\\appdata\\local\\programs\\python\\python37\\lib\\site-packages)\n",
      "WARNING: Ignoring invalid distribution - (c:\\users\\user\\appdata\\local\\programs\\python\\python37\\lib\\site-packages)\n",
      "WARNING: Ignoring invalid distribution -pencv-python (c:\\users\\user\\appdata\\local\\programs\\python\\python37\\lib\\site-packages)\n",
      "WARNING: Ignoring invalid distribution - (c:\\users\\user\\appdata\\local\\programs\\python\\python37\\lib\\site-packages)\n",
      "WARNING: Ignoring invalid distribution -pencv-python (c:\\users\\user\\appdata\\local\\programs\\python\\python37\\lib\\site-packages)\n",
      "WARNING: Ignoring invalid distribution - (c:\\users\\user\\appdata\\local\\programs\\python\\python37\\lib\\site-packages)\n",
      "WARNING: Ignoring invalid distribution -pencv-python (c:\\users\\user\\appdata\\local\\programs\\python\\python37\\lib\\site-packages)\n",
      "WARNING: Ignoring invalid distribution - (c:\\users\\user\\appdata\\local\\programs\\python\\python37\\lib\\site-packages)\n",
      "WARNING: Ignoring invalid distribution -pencv-python (c:\\users\\user\\appdata\\local\\programs\\python\\python37\\lib\\site-packages)\n",
      "WARNING: Ignoring invalid distribution - (c:\\users\\user\\appdata\\local\\programs\\python\\python37\\lib\\site-packages)\n",
      "WARNING: Ignoring invalid distribution -pencv-python (c:\\users\\user\\appdata\\local\\programs\\python\\python37\\lib\\site-packages)\n",
      "WARNING: Ignoring invalid distribution - (c:\\users\\user\\appdata\\local\\programs\\python\\python37\\lib\\site-packages)\n",
      "WARNING: Ignoring invalid distribution -pencv-python (c:\\users\\user\\appdata\\local\\programs\\python\\python37\\lib\\site-packages)\n",
      "WARNING: Ignoring invalid distribution - (c:\\users\\user\\appdata\\local\\programs\\python\\python37\\lib\\site-packages)\n",
      "WARNING: Ignoring invalid distribution -pencv-python (c:\\users\\user\\appdata\\local\\programs\\python\\python37\\lib\\site-packages)\n",
      "WARNING: Ignoring invalid distribution - (c:\\users\\user\\appdata\\local\\programs\\python\\python37\\lib\\site-packages)\n",
      "WARNING: You are using pip version 21.1.3; however, version 21.3.1 is available.\n",
      "You should consider upgrading via the 'c:\\users\\user\\appdata\\local\\programs\\python\\python37\\python.exe -m pip install --upgrade pip' command.\n"
     ]
    },
    {
     "name": "stdout",
     "output_type": "stream",
     "text": [
      "Collecting umap-learn\n",
      "  Downloading umap-learn-0.5.2.tar.gz (86 kB)\n",
      "Requirement already satisfied: numpy>=1.17 in c:\\users\\user\\appdata\\local\\programs\\python\\python37\\lib\\site-packages (from umap-learn) (1.21.1)\n",
      "Requirement already satisfied: scikit-learn>=0.22 in c:\\users\\user\\appdata\\local\\programs\\python\\python37\\lib\\site-packages (from umap-learn) (0.24.2)\n",
      "Requirement already satisfied: scipy>=1.0 in c:\\users\\user\\appdata\\local\\programs\\python\\python37\\lib\\site-packages (from umap-learn) (1.6.3)\n",
      "Collecting numba>=0.49\n",
      "  Downloading numba-0.54.1-cp37-cp37m-win_amd64.whl (2.3 MB)\n",
      "Collecting pynndescent>=0.5\n",
      "  Downloading pynndescent-0.5.5.tar.gz (1.1 MB)\n",
      "Collecting tqdm\n",
      "  Downloading tqdm-4.62.3-py2.py3-none-any.whl (76 kB)\n",
      "Requirement already satisfied: setuptools in c:\\users\\user\\appdata\\local\\programs\\python\\python37\\lib\\site-packages (from numba>=0.49->umap-learn) (58.1.0)\n",
      "Collecting llvmlite<0.38,>=0.37.0rc1\n",
      "  Downloading llvmlite-0.37.0-cp37-cp37m-win_amd64.whl (17.0 MB)\n",
      "Collecting numpy>=1.17\n",
      "  Using cached numpy-1.20.3-cp37-cp37m-win_amd64.whl (13.6 MB)\n",
      "Requirement already satisfied: joblib>=0.11 in c:\\users\\user\\appdata\\local\\programs\\python\\python37\\lib\\site-packages (from pynndescent>=0.5->umap-learn) (1.0.1)\n",
      "Requirement already satisfied: threadpoolctl>=2.0.0 in c:\\users\\user\\appdata\\local\\programs\\python\\python37\\lib\\site-packages (from scikit-learn>=0.22->umap-learn) (2.1.0)\n",
      "Requirement already satisfied: colorama in c:\\users\\user\\appdata\\local\\programs\\python\\python37\\lib\\site-packages (from tqdm->umap-learn) (0.4.4)\n",
      "Building wheels for collected packages: umap-learn, pynndescent\n",
      "  Building wheel for umap-learn (setup.py): started\n",
      "  Building wheel for umap-learn (setup.py): finished with status 'done'\n",
      "  Created wheel for umap-learn: filename=umap_learn-0.5.2-py3-none-any.whl size=82709 sha256=1715bd8a7302328f74fee8500c9b97c09e5a5fe4dfe042cb8bf5fdadc3f1a9cf\n",
      "  Stored in directory: c:\\users\\user\\appdata\\local\\pip\\cache\\wheels\\84\\1b\\c6\\aaf68a748122632967cef4dffef68224eb16798b6793257d82\n",
      "  Building wheel for pynndescent (setup.py): started\n",
      "  Building wheel for pynndescent (setup.py): finished with status 'done'\n",
      "  Created wheel for pynndescent: filename=pynndescent-0.5.5-py3-none-any.whl size=52603 sha256=02a1c0a4f52e15a138242192d42256abf6cc8373cf8888592220f922962bf6e8\n",
      "  Stored in directory: c:\\users\\user\\appdata\\local\\pip\\cache\\wheels\\af\\e9\\33\\04db1436df0757c42fda8ea6796d7a8586e23c85fac355f476\n",
      "Successfully built umap-learn pynndescent\n",
      "Installing collected packages: numpy, llvmlite, numba, tqdm, pynndescent, umap-learn\n",
      "  Attempting uninstall: numpy\n",
      "    Found existing installation: numpy 1.21.1\n",
      "    Uninstalling numpy-1.21.1:\n",
      "      Successfully uninstalled numpy-1.21.1\n",
      "Successfully installed llvmlite-0.37.0 numba-0.54.1 numpy-1.20.3 pynndescent-0.5.5 tqdm-4.62.3 umap-learn-0.5.2\n"
     ]
    },
    {
     "name": "stderr",
     "output_type": "stream",
     "text": [
      "WARNING: Ignoring invalid distribution -pencv-python (c:\\users\\user\\appdata\\local\\programs\\python\\python37\\lib\\site-packages)\n",
      "WARNING: Ignoring invalid distribution - (c:\\users\\user\\appdata\\local\\programs\\python\\python37\\lib\\site-packages)\n",
      "WARNING: Ignoring invalid distribution -pencv-python (c:\\users\\user\\appdata\\local\\programs\\python\\python37\\lib\\site-packages)\n",
      "WARNING: Ignoring invalid distribution - (c:\\users\\user\\appdata\\local\\programs\\python\\python37\\lib\\site-packages)\n",
      "WARNING: Ignoring invalid distribution -pencv-python (c:\\users\\user\\appdata\\local\\programs\\python\\python37\\lib\\site-packages)\n",
      "WARNING: Ignoring invalid distribution - (c:\\users\\user\\appdata\\local\\programs\\python\\python37\\lib\\site-packages)\n",
      "    WARNING: Ignoring invalid distribution -pencv-python (c:\\users\\user\\appdata\\local\\programs\\python\\python37\\lib\\site-packages)\n",
      "    WARNING: Ignoring invalid distribution - (c:\\users\\user\\appdata\\local\\programs\\python\\python37\\lib\\site-packages)\n",
      "WARNING: Ignoring invalid distribution -pencv-python (c:\\users\\user\\appdata\\local\\programs\\python\\python37\\lib\\site-packages)\n",
      "WARNING: Ignoring invalid distribution - (c:\\users\\user\\appdata\\local\\programs\\python\\python37\\lib\\site-packages)\n",
      "WARNING: Ignoring invalid distribution -pencv-python (c:\\users\\user\\appdata\\local\\programs\\python\\python37\\lib\\site-packages)\n",
      "WARNING: Ignoring invalid distribution - (c:\\users\\user\\appdata\\local\\programs\\python\\python37\\lib\\site-packages)\n",
      "WARNING: Ignoring invalid distribution -pencv-python (c:\\users\\user\\appdata\\local\\programs\\python\\python37\\lib\\site-packages)\n",
      "WARNING: Ignoring invalid distribution - (c:\\users\\user\\appdata\\local\\programs\\python\\python37\\lib\\site-packages)\n",
      "WARNING: Ignoring invalid distribution -pencv-python (c:\\users\\user\\appdata\\local\\programs\\python\\python37\\lib\\site-packages)\n",
      "WARNING: Ignoring invalid distribution - (c:\\users\\user\\appdata\\local\\programs\\python\\python37\\lib\\site-packages)\n",
      "WARNING: Ignoring invalid distribution -pencv-python (c:\\users\\user\\appdata\\local\\programs\\python\\python37\\lib\\site-packages)\n",
      "WARNING: Ignoring invalid distribution - (c:\\users\\user\\appdata\\local\\programs\\python\\python37\\lib\\site-packages)\n",
      "WARNING: Ignoring invalid distribution -pencv-python (c:\\users\\user\\appdata\\local\\programs\\python\\python37\\lib\\site-packages)\n",
      "WARNING: Ignoring invalid distribution - (c:\\users\\user\\appdata\\local\\programs\\python\\python37\\lib\\site-packages)\n",
      "WARNING: Ignoring invalid distribution -pencv-python (c:\\users\\user\\appdata\\local\\programs\\python\\python37\\lib\\site-packages)\n",
      "WARNING: Ignoring invalid distribution - (c:\\users\\user\\appdata\\local\\programs\\python\\python37\\lib\\site-packages)\n",
      "WARNING: Ignoring invalid distribution -pencv-python (c:\\users\\user\\appdata\\local\\programs\\python\\python37\\lib\\site-packages)\n",
      "WARNING: Ignoring invalid distribution - (c:\\users\\user\\appdata\\local\\programs\\python\\python37\\lib\\site-packages)\n",
      "WARNING: Ignoring invalid distribution -pencv-python (c:\\users\\user\\appdata\\local\\programs\\python\\python37\\lib\\site-packages)\n",
      "WARNING: Ignoring invalid distribution - (c:\\users\\user\\appdata\\local\\programs\\python\\python37\\lib\\site-packages)\n",
      "WARNING: You are using pip version 21.1.3; however, version 21.3.1 is available.\n",
      "You should consider upgrading via the 'c:\\users\\user\\appdata\\local\\programs\\python\\python37\\python.exe -m pip install --upgrade pip' command.\n"
     ]
    }
   ],
   "source": [
    "!pip install pythainlp\n",
    "!pip install tensorflow_text\n",
    "!pip install umap-learn"
   ]
  },
  {
   "cell_type": "code",
   "execution_count": 2,
   "metadata": {
    "id": "7GvuznzISB-h"
   },
   "outputs": [],
   "source": [
    "import numpy as np\n",
    "import pandas as pd\n",
    "import re\n",
    "\n",
    "import tensorflow as tf\n",
    "import tensorflow_hub as hub\n",
    "import tensorflow_text\n",
    "import umap\n",
    "\n",
    "from sklearn.cluster import KMeans\n",
    "import matplotlib.pyplot as plt\n",
    "\n",
    "from sklearn.cluster import AgglomerativeClustering\n",
    "from sklearn.neighbors import kneighbors_graph\n",
    "\n",
    "import pythainlp\n",
    "from pythainlp.corpus.common import thai_words\n",
    "from pythainlp.util import Trie\n",
    "import collections\n"
   ]
  },
  {
   "cell_type": "code",
   "execution_count": 3,
   "metadata": {
    "id": "fUq1dSYcS5yM"
   },
   "outputs": [],
   "source": [
    "module_url = 'https://tfhub.dev/google/universal-sentence-encoder-multilingual/3' #'https://tfhub.dev/google/universal-sentence-encoder-multilingual/3' for a large model\n",
    "\n",
    "model = hub.load(module_url)"
   ]
  },
  {
   "cell_type": "code",
   "execution_count": 4,
   "metadata": {
    "id": "dZiaG3R4b6kN"
   },
   "outputs": [],
   "source": [
    "df = pd.read_csv(\"Wongnai Reviews - Small.csv\")"
   ]
  },
  {
   "cell_type": "code",
   "execution_count": 5,
   "metadata": {
    "colab": {
     "base_uri": "https://localhost:8080/",
     "height": 204
    },
    "id": "gonSv6i4cVs1",
    "outputId": "72c93652-3f4a-481a-bcdb-fc927104ad01"
   },
   "outputs": [
    {
     "data": {
      "text/html": [
       "<div>\n",
       "<style scoped>\n",
       "    .dataframe tbody tr th:only-of-type {\n",
       "        vertical-align: middle;\n",
       "    }\n",
       "\n",
       "    .dataframe tbody tr th {\n",
       "        vertical-align: top;\n",
       "    }\n",
       "\n",
       "    .dataframe thead th {\n",
       "        text-align: right;\n",
       "    }\n",
       "</style>\n",
       "<table border=\"1\" class=\"dataframe\">\n",
       "  <thead>\n",
       "    <tr style=\"text-align: right;\">\n",
       "      <th></th>\n",
       "      <th>Review ID</th>\n",
       "      <th>Review</th>\n",
       "    </tr>\n",
       "  </thead>\n",
       "  <tbody>\n",
       "    <tr>\n",
       "      <th>0</th>\n",
       "      <td>1</td>\n",
       "      <td>เป็นคนที่ชอบทาน Macchiato เป็นประจำ มีวันนึงเด...</td>\n",
       "    </tr>\n",
       "    <tr>\n",
       "      <th>1</th>\n",
       "      <td>2</td>\n",
       "      <td>Art of Coffee Kasetsart เป็นร้านกาแฟรสชาติเยี่...</td>\n",
       "    </tr>\n",
       "    <tr>\n",
       "      <th>2</th>\n",
       "      <td>3</td>\n",
       "      <td>กวงทะเลเผา อาหารทะเลเค้าสดจริงๆเนื้อปูหวานไม่ค...</td>\n",
       "    </tr>\n",
       "    <tr>\n",
       "      <th>3</th>\n",
       "      <td>4</td>\n",
       "      <td>วันนี้มีโอกาสตื่นเช้าครับเลยถึงโอกาสออกมาหาอะไ...</td>\n",
       "    </tr>\n",
       "    <tr>\n",
       "      <th>4</th>\n",
       "      <td>5</td>\n",
       "      <td>ชอบมาทานร้านนี้ถ้าอยากกินอาหารเวียดนามใกล้บ้าน...</td>\n",
       "    </tr>\n",
       "  </tbody>\n",
       "</table>\n",
       "</div>"
      ],
      "text/plain": [
       "   Review ID                                             Review\n",
       "0          1  เป็นคนที่ชอบทาน Macchiato เป็นประจำ มีวันนึงเด...\n",
       "1          2  Art of Coffee Kasetsart เป็นร้านกาแฟรสชาติเยี่...\n",
       "2          3  กวงทะเลเผา อาหารทะเลเค้าสดจริงๆเนื้อปูหวานไม่ค...\n",
       "3          4  วันนี้มีโอกาสตื่นเช้าครับเลยถึงโอกาสออกมาหาอะไ...\n",
       "4          5  ชอบมาทานร้านนี้ถ้าอยากกินอาหารเวียดนามใกล้บ้าน..."
      ]
     },
     "execution_count": 5,
     "metadata": {},
     "output_type": "execute_result"
    }
   ],
   "source": [
    "df.head()"
   ]
  },
  {
   "cell_type": "markdown",
   "metadata": {
    "id": "Oowl7VYeP3gK"
   },
   "source": [
    "**Step 1 - document embedding and dimension reduction**"
   ]
  },
  {
   "cell_type": "code",
   "execution_count": 6,
   "metadata": {
    "colab": {
     "base_uri": "https://localhost:8080/"
    },
    "id": "e29WZmM4cCOS",
    "outputId": "26e9316f-fb73-45b8-862c-bc6785a6cbae"
   },
   "outputs": [
    {
     "data": {
      "text/plain": [
       "array([[ 0.08993825,  0.01941085,  0.0378704 , ..., -0.03488844,\n",
       "         0.06299514,  0.04635992],\n",
       "       [ 0.00634241,  0.00814588,  0.0307194 , ..., -0.01478724,\n",
       "        -0.03080929, -0.03316406],\n",
       "       [ 0.0633687 , -0.02027135, -0.05077005, ..., -0.06530774,\n",
       "        -0.00952994, -0.03439989],\n",
       "       ...,\n",
       "       [ 0.08775924,  0.03609737,  0.01263058, ..., -0.03102782,\n",
       "        -0.03361679,  0.01928869],\n",
       "       [ 0.05691192,  0.0538169 , -0.03995747, ..., -0.06598806,\n",
       "        -0.05390476, -0.0103773 ],\n",
       "       [ 0.07770479,  0.05080628,  0.02680681, ..., -0.00614124,\n",
       "        -0.0131357 ,  0.02236265]], dtype=float32)"
      ]
     },
     "execution_count": 6,
     "metadata": {},
     "output_type": "execute_result"
    }
   ],
   "source": [
    "#embed sentences using Universal Sentence Encoder (USE)\n",
    "\n",
    "embed_comments_array = model(df['Review'].values).numpy()\n",
    "embed_comments_array"
   ]
  },
  {
   "cell_type": "code",
   "execution_count": 30,
   "metadata": {
    "colab": {
     "base_uri": "https://localhost:8080/"
    },
    "id": "5gps1fE8ctMQ",
    "outputId": "1ccd1046-2e74-4aaf-9dd4-773a7063d7e9"
   },
   "outputs": [],
   "source": [
    "#reduce array dimensions using umap (you can chagne n_components)\n",
    "\n",
    "reducer = umap.UMAP(random_state=42,n_components=50)\n",
    "umap_embed_comments_array = reducer.fit_transform(embed_comments_array)"
   ]
  },
  {
   "cell_type": "markdown",
   "metadata": {
    "id": "s5qq2RQlQJbV"
   },
   "source": [
    "**Step 2 - document clustering using KMeans**"
   ]
  },
  {
   "cell_type": "code",
   "execution_count": 8,
   "metadata": {
    "colab": {
     "base_uri": "https://localhost:8080/",
     "height": 312
    },
    "id": "2IkMb1UIF3k5",
    "outputId": "7ea641e2-2389-407d-8c47-9c5b8a9f0fbd"
   },
   "outputs": [
    {
     "data": {
      "text/plain": [
       "Text(0, 0.5, 'WCSS')"
      ]
     },
     "execution_count": 8,
     "metadata": {},
     "output_type": "execute_result"
    },
    {
     "data": {
      "image/png": "[encoded data removed]",
      "text/plain": [
       "<Figure size 432x288 with 1 Axes>"
      ]
     },
     "metadata": {
      "needs_background": "light"
     },
     "output_type": "display_data"
    }
   ],
   "source": [
    "#run kmeans with various number of k. evaluate no. of k based on the elbow plot\n",
    "\n",
    "wcss=[]\n",
    "max_k = 10\n",
    "for i in range(1, max_k):\n",
    "  kmeans = KMeans(i)\n",
    "  kmeans.fit(umap_embed_comments_array)\n",
    "  wcss_iter = kmeans.inertia_\n",
    "  wcss.append(wcss_iter)\n",
    "\n",
    "number_clusters = range(1, max_k)\n",
    "plt.plot(number_clusters,wcss)\n",
    "plt.title('The Elbow title')\n",
    "plt.xlabel('Number of clusters')\n",
    "plt.ylabel('WCSS')"
   ]
  },
  {
   "cell_type": "code",
   "execution_count": 9,
   "metadata": {
    "id": "1o0czkMVdSJ5"
   },
   "outputs": [],
   "source": [
    "#run kmeans with no. of clusters you see fit the most\n",
    "\n",
    "k = 4\n",
    "\n",
    "kmeans = KMeans(n_clusters = k)\n",
    "kmeans.fit(umap_embed_comments_array)\n",
    "\n",
    "df['KMeans ID'] = kmeans.labels_"
   ]
  },
  {
   "cell_type": "code",
   "execution_count": 10,
   "metadata": {
    "id": "bf3R2QBr3oOq"
   },
   "outputs": [],
   "source": [
    "#merge all reviews of each cluster into one big sentence \n",
    "\n",
    "df_kmeans = pd.DataFrame(columns=[\"KMeans ID\", \"texts\"])\n",
    "\n",
    "\n",
    "for i in range(0, k):\n",
    "  row = []\n",
    "  row.append(i)\n",
    "  row.append(df['Review'][df['KMeans ID'] == i].to_string())\n",
    "  df_kmeans.loc[len(df_kmeans)] = row"
   ]
  },
  {
   "cell_type": "code",
   "execution_count": 11,
   "metadata": {
    "colab": {
     "base_uri": "https://localhost:8080/",
     "height": 173
    },
    "id": "UFo_nqQEL08U",
    "outputId": "504961d4-ff86-42bd-be71-7069cbf06e4b"
   },
   "outputs": [
    {
     "data": {
      "text/html": [
       "<div>\n",
       "<style scoped>\n",
       "    .dataframe tbody tr th:only-of-type {\n",
       "        vertical-align: middle;\n",
       "    }\n",
       "\n",
       "    .dataframe tbody tr th {\n",
       "        vertical-align: top;\n",
       "    }\n",
       "\n",
       "    .dataframe thead th {\n",
       "        text-align: right;\n",
       "    }\n",
       "</style>\n",
       "<table border=\"1\" class=\"dataframe\">\n",
       "  <thead>\n",
       "    <tr style=\"text-align: right;\">\n",
       "      <th></th>\n",
       "      <th>KMeans ID</th>\n",
       "      <th>texts</th>\n",
       "    </tr>\n",
       "  </thead>\n",
       "  <tbody>\n",
       "    <tr>\n",
       "      <th>0</th>\n",
       "      <td>0</td>\n",
       "      <td>2      กวงทะเลเผา อาหารทะเลเค้าสดจริงๆเนื้อปูห...</td>\n",
       "    </tr>\n",
       "    <tr>\n",
       "      <th>1</th>\n",
       "      <td>1</td>\n",
       "      <td>0      เป็นคนที่ชอบทาน Macchiato เป็นประจำ มีว...</td>\n",
       "    </tr>\n",
       "    <tr>\n",
       "      <th>2</th>\n",
       "      <td>2</td>\n",
       "      <td>3      วันนี้มีโอกาสตื่นเช้าครับเลยถึงโอกาสออก...</td>\n",
       "    </tr>\n",
       "    <tr>\n",
       "      <th>3</th>\n",
       "      <td>3</td>\n",
       "      <td>13     เคยเป็นไหมกันไหมคะ หลังอาหารมื้อใหญ่ ต่...</td>\n",
       "    </tr>\n",
       "  </tbody>\n",
       "</table>\n",
       "</div>"
      ],
      "text/plain": [
       "  KMeans ID                                              texts\n",
       "0         0  2      กวงทะเลเผา อาหารทะเลเค้าสดจริงๆเนื้อปูห...\n",
       "1         1  0      เป็นคนที่ชอบทาน Macchiato เป็นประจำ มีว...\n",
       "2         2  3      วันนี้มีโอกาสตื่นเช้าครับเลยถึงโอกาสออก...\n",
       "3         3  13     เคยเป็นไหมกันไหมคะ หลังอาหารมื้อใหญ่ ต่..."
      ]
     },
     "execution_count": 11,
     "metadata": {},
     "output_type": "execute_result"
    }
   ],
   "source": [
    "df_kmeans"
   ]
  },
  {
   "cell_type": "code",
   "execution_count": 12,
   "metadata": {
    "id": "JydvwIz5NcaI"
   },
   "outputs": [],
   "source": [
    "#create regex compiler for removal of a character you don't want\n",
    "\n",
    "special_characters = \"/[!@#$%^&*']/g\"\n",
    "\n",
    "specialchar_pattern = re.compile(special_characters)"
   ]
  },
  {
   "cell_type": "code",
   "execution_count": 13,
   "metadata": {
    "id": "R8ymEA_2EhGi"
   },
   "outputs": [],
   "source": [
    "#create regex compiler for removal of any emoji\n",
    "\n",
    "emoji_pattern = re.compile(\"[\"\n",
    "        u\"\\U0001F600-\\U0001F64F\"  # emoticons\n",
    "        u\"\\U0001F300-\\U0001F5FF\"  # symbols & pictographs\n",
    "        u\"\\U0001F680-\\U0001F6FF\"  # transport & map symbols\n",
    "        u\"\\U0001F1E0-\\U0001F1FF\"  # flags (iOS)\n",
    "                           \"]+\", flags=re.UNICODE)"
   ]
  },
  {
   "cell_type": "code",
   "execution_count": 14,
   "metadata": {
    "id": "9Q93YKJZK5ak"
   },
   "outputs": [],
   "source": [
    "#create regex compiler for removal of digit\n",
    "\n",
    "number_pattern = re.compile(\"[0-9]\")"
   ]
  },
  {
   "cell_type": "code",
   "execution_count": 15,
   "metadata": {
    "id": "sHZ0HKlXNeSi"
   },
   "outputs": [],
   "source": [
    "#create regex compiler for removal of white space\n",
    "\n",
    "space_pattern = re.compile(\"\\s+\")"
   ]
  },
  {
   "cell_type": "code",
   "execution_count": 16,
   "metadata": {
    "id": "-orHzqLkNupd"
   },
   "outputs": [],
   "source": [
    "#create regex compiler for removal of .\n",
    "\n",
    "dot_pattern = re.compile(r\"\\.+\")"
   ]
  },
  {
   "cell_type": "code",
   "execution_count": 17,
   "metadata": {
    "id": "v7bW9th9N7oG"
   },
   "outputs": [],
   "source": [
    "#create regex compiler for removal of \\\n",
    "\n",
    "backslash_pattern = re.compile(r\"\\\\+\")"
   ]
  },
  {
   "cell_type": "code",
   "execution_count": 26,
   "metadata": {
    "id": "ZGVvQhZz4tGs"
   },
   "outputs": [],
   "source": [
    "#define a function to tokenize a sentence into words - you can define words you want to remove as well as new words for tokenization\n",
    "\n",
    "stopwords = list(pythainlp.corpus.thai_stopwords())\n",
    "removed_words = ['u', 'b', 'n', 'nn', 'nn-', '\\n', 'ร้าน']\n",
    "screening_words = stopwords + removed_words\n",
    "\n",
    "new_words = {\"สตารบัก\",\"หัวหิน\",\"ราชเทวี\",\"อเมซอน\",\"รสชาติดี\",\"ชาไข่มุก\",\"ชานม\",\"ชานมไข่มุก\", \"เค้าดาว\"}\n",
    "\n",
    "words = new_words.union(thai_words())\n",
    "\n",
    "custom_dictionary_trie = Trie(words)\n",
    "\n",
    "def tokenize_to_list(sentence):\n",
    "  merged = []\n",
    "  words = pythainlp.word_tokenize(str(sentence), engine='newmm', custom_dict=custom_dictionary_trie)\n",
    "  for word in words:\n",
    "    if word not in screening_words:\n",
    "      merged.append(word)\n",
    "  return merged"
   ]
  },
  {
   "cell_type": "code",
   "execution_count": 27,
   "metadata": {
    "id": "MnN1ekEoL9ug"
   },
   "outputs": [],
   "source": [
    "#clean and tokenize sentences. count the occurences of each word\n",
    "\n",
    "df_kmeans['texts'] = df_kmeans['texts'].apply(lambda x: emoji_pattern.sub(r'', x))\n",
    "df_kmeans['texts'] = df_kmeans['texts'].apply(lambda x: specialchar_pattern.sub(r'', x))\n",
    "df_kmeans['texts'] = df_kmeans['texts'].apply(lambda x: number_pattern.sub(r'', x))\n",
    "df_kmeans['texts'] = df_kmeans['texts'].apply(lambda x: space_pattern.sub(r'', x))\n",
    "df_kmeans['texts'] = df_kmeans['texts'].apply(lambda x: dot_pattern.sub(r'', x))\n",
    "df_kmeans['texts'] = df_kmeans['texts'].apply(lambda x: backslash_pattern.sub(r'', x))\n",
    "df_kmeans['texts_tokenized'] = df_kmeans['texts'].apply(lambda x: tokenize_to_list(x))\n",
    "df_kmeans['texts_count'] = df_kmeans['texts_tokenized'].apply(lambda x: collections.Counter(x).most_common())"
   ]
  },
  {
   "cell_type": "code",
   "execution_count": 28,
   "metadata": {
    "colab": {
     "base_uri": "https://localhost:8080/",
     "height": 173
    },
    "id": "G0jG1yO889B2",
    "outputId": "f256b0e1-f56b-4d29-96b2-771d5bcb1469"
   },
   "outputs": [
    {
     "data": {
      "text/html": [
       "<div>\n",
       "<style scoped>\n",
       "    .dataframe tbody tr th:only-of-type {\n",
       "        vertical-align: middle;\n",
       "    }\n",
       "\n",
       "    .dataframe tbody tr th {\n",
       "        vertical-align: top;\n",
       "    }\n",
       "\n",
       "    .dataframe thead th {\n",
       "        text-align: right;\n",
       "    }\n",
       "</style>\n",
       "<table border=\"1\" class=\"dataframe\">\n",
       "  <thead>\n",
       "    <tr style=\"text-align: right;\">\n",
       "      <th></th>\n",
       "      <th>KMeans ID</th>\n",
       "      <th>texts</th>\n",
       "      <th>texts_tokenized</th>\n",
       "      <th>texts_count</th>\n",
       "    </tr>\n",
       "  </thead>\n",
       "  <tbody>\n",
       "    <tr>\n",
       "      <th>0</th>\n",
       "      <td>0</td>\n",
       "      <td>กวงทะเลเผาอาหารทะเลเค้าสดจริงๆเนื้อปูหวานไม่คส...</td>\n",
       "      <td>[กวง, ทะเล, เผา, อาหารทะเล, เค้า, สด, เนื้อ, ป...</td>\n",
       "      <td>[(ร้านอาหาร, 11), (อร่อย, 8), (กก, 7), (กิน, 6...</td>\n",
       "    </tr>\n",
       "    <tr>\n",
       "      <th>1</th>\n",
       "      <td>1</td>\n",
       "      <td>เป็นคนที่ชอบทานMacchiatoเป็นประจำมีวันนึงเดArt...</td>\n",
       "      <td>[คน, ชอบ, ทาน, Macchiato, เป็นประจำ, นึง, เด, ...</td>\n",
       "      <td>[(ร้านกาแฟ, 22), (กาแฟ, 19), (ทาน, 11), (ชอบ, ...</td>\n",
       "    </tr>\n",
       "    <tr>\n",
       "      <th>2</th>\n",
       "      <td>2</td>\n",
       "      <td>วันนี้มีโอกาสตื่นเช้าครับเลยถึงโอกาสออกมาหาอะไ...</td>\n",
       "      <td>[มีโอกาส, ตื่น, เช้า, โอกาส, มาหา, อะ, ไช, อบ,...</td>\n",
       "      <td>[(กิน, 11), (ทาน, 7), (อร่อย, 7), (ผม, 7), (รี...</td>\n",
       "    </tr>\n",
       "    <tr>\n",
       "      <th>3</th>\n",
       "      <td>3</td>\n",
       "      <td>เคยเป็นไหมกันไหมคะหลังอาหารมื้อใหญ่ต่อให้อิ่เช...</td>\n",
       "      <td>[ไหม, ไหม, หลังอาหาร, มื้อ, ต่อให้, อิ่, เช้า,...</td>\n",
       "      <td>[(ชานมไข่มุก, 9), (ทาน, 6), (เครื่องดื่ม, 4), ...</td>\n",
       "    </tr>\n",
       "  </tbody>\n",
       "</table>\n",
       "</div>"
      ],
      "text/plain": [
       "  KMeans ID                                              texts  \\\n",
       "0         0  กวงทะเลเผาอาหารทะเลเค้าสดจริงๆเนื้อปูหวานไม่คส...   \n",
       "1         1  เป็นคนที่ชอบทานMacchiatoเป็นประจำมีวันนึงเดArt...   \n",
       "2         2  วันนี้มีโอกาสตื่นเช้าครับเลยถึงโอกาสออกมาหาอะไ...   \n",
       "3         3  เคยเป็นไหมกันไหมคะหลังอาหารมื้อใหญ่ต่อให้อิ่เช...   \n",
       "\n",
       "                                     texts_tokenized  \\\n",
       "0  [กวง, ทะเล, เผา, อาหารทะเล, เค้า, สด, เนื้อ, ป...   \n",
       "1  [คน, ชอบ, ทาน, Macchiato, เป็นประจำ, นึง, เด, ...   \n",
       "2  [มีโอกาส, ตื่น, เช้า, โอกาส, มาหา, อะ, ไช, อบ,...   \n",
       "3  [ไหม, ไหม, หลังอาหาร, มื้อ, ต่อให้, อิ่, เช้า,...   \n",
       "\n",
       "                                         texts_count  \n",
       "0  [(ร้านอาหาร, 11), (อร่อย, 8), (กก, 7), (กิน, 6...  \n",
       "1  [(ร้านกาแฟ, 22), (กาแฟ, 19), (ทาน, 11), (ชอบ, ...  \n",
       "2  [(กิน, 11), (ทาน, 7), (อร่อย, 7), (ผม, 7), (รี...  \n",
       "3  [(ชานมไข่มุก, 9), (ทาน, 6), (เครื่องดื่ม, 4), ...  "
      ]
     },
     "execution_count": 28,
     "metadata": {},
     "output_type": "execute_result"
    }
   ],
   "source": [
    "#results of tokenization\n",
    "\n",
    "df_kmeans"
   ]
  },
  {
   "cell_type": "code",
   "execution_count": 29,
   "metadata": {
    "colab": {
     "base_uri": "https://localhost:8080/"
    },
    "id": "n0LZ5H8_Dqvn",
    "outputId": "fbd769b8-7cd6-48f8-fa34-7f94c2afa034"
   },
   "outputs": [
    {
     "name": "stdout",
     "output_type": "stream",
     "text": [
      "Cluster ID : 0\n",
      "\n",
      "Most common words include : [('ร้านอาหาร', 11), ('อร่อย', 8), ('กก', 7), ('กิน', 6), ('ซอย', 6), ('อาหาร', 6), ('ส้มตำ', 5), ('ทาน', 5), ('ราคา', 5), ('สวัสดี', 4), ('เพื่อน', 4), ('ไทย', 4), ('แซ่บ', 4), ('รสชาติ', 4), ('รีวิว', 3), ('ไร้', 3), ('าน', 3), ('ส', 3), ('ยำ', 3), ('รา', 3)]\n",
      "\n",
      "Cluster ID : 1\n",
      "\n",
      "Most common words include : [('ร้านกาแฟ', 22), ('กาแฟ', 19), ('ทาน', 11), ('ชอบ', 8), ('กิน', 6), ('แวะ', 6), ('น่ารัก', 5), ('น', 5), ('นั่ง', 5), ('เจอ', 5), ('ชั้น', 5), ('คน', 4), ('นึง', 4), ('คาเฟ่', 4), ('วัง', 4), ('แนว', 4), ('กร้าน', 4), ('แถว', 4), ('สวัสดี', 4), ('อเมซอน', 4)]\n",
      "\n",
      "Cluster ID : 2\n",
      "\n",
      "Most common words include : [('กิน', 11), ('ทาน', 7), ('อร่อย', 7), ('ผม', 7), ('รีวิว', 7), ('บ้าน', 5), ('ร้านกาแฟ', 5), ('ร้านอาหาร', 5), ('กาแฟ', 5), ('กก', 5), ('อาหาร', 4), ('มีโอกาส', 3), ('ถนน', 3), ('คิว', 3), ('กา', 3), ('ศ', 3), ('ครั้งแรก', 3), ('ชอบ', 3), ('ซื้อ', 3), ('นะคะ', 3)]\n",
      "\n",
      "Cluster ID : 3\n",
      "\n",
      "Most common words include : [('ชานมไข่มุก', 9), ('ทาน', 6), ('เครื่องดื่ม', 4), ('ชาไข่มุก', 4), ('ชา', 3), ('ร้า', 3), ('ตั้งอยู่', 3), ('ลอง', 3), ('เดิน', 3), ('นม', 3), ('ไต้หวัน', 3), ('ไหม', 2), ('แวะ', 2), ('เติม', 2), ('นขา', 2), ('ชาเขียว', 2), ('นิว', 2), ('คุง', 2), ('เจอ', 2), ('ขาย', 2)]\n",
      "\n"
     ]
    }
   ],
   "source": [
    "#show top keywords of each cluster\n",
    "\n",
    "top_N_words = 20\n",
    "\n",
    "for i in range(0, len(df_kmeans)):\n",
    "  print(f\"Cluster ID : {i}\\n\")\n",
    "  print(f\"Most common words include : {list(df_kmeans['texts_count'][i])[:top_N_words]}\\n\")\n",
    "\n",
    "#tune a model by remove unwanted characters and words and add more words to a custom dictionary"
   ]
  },
  {
   "cell_type": "markdown",
   "metadata": {
    "id": "9Qe8TReCQTOo"
   },
   "source": [
    "**Step 3 - document clustering using Agglomorative Clustering with cosine similarity**"
   ]
  },
  {
   "cell_type": "code",
   "execution_count": 22,
   "metadata": {
    "id": "VWgW-tCkcPgU"
   },
   "outputs": [],
   "source": [
    "#clustering using agglomorative clustering\n",
    "\n",
    "knn_graph = kneighbors_graph(embed_comments_array, 5, include_self=False)\n",
    "model = AgglomerativeClustering(linkage=\"average\", connectivity=knn_graph, n_clusters=10, affinity=\"cosine\")\n",
    "model.fit(embed_comments_array)\n",
    "df['Agglomerative ID'] = model.labels_"
   ]
  },
  {
   "cell_type": "code",
   "execution_count": 23,
   "metadata": {
    "id": "XHfsJyL8dmGC"
   },
   "outputs": [],
   "source": [
    "#merge all reviews of each cluster into one big sentence \n",
    "\n",
    "df_Agglomerative = pd.DataFrame(columns=[\"Agglomerative ID\", \"texts\"])\n",
    "\n",
    "\n",
    "for i in range(0, k):\n",
    "  row = []\n",
    "  row.append(i)\n",
    "  row.append(str(df['Review'][df['Agglomerative ID'] == i].tolist()))\n",
    "  df_Agglomerative.loc[len(df_Agglomerative)] = row"
   ]
  },
  {
   "cell_type": "code",
   "execution_count": 24,
   "metadata": {
    "id": "7hsSbTWvdtK2"
   },
   "outputs": [],
   "source": [
    "#clean and tokenize sentences. count the occurences of each word\n",
    "\n",
    "df_Agglomerative['texts'] = df_Agglomerative['texts'].apply(lambda x: emoji_pattern.sub(r'', x))\n",
    "df_Agglomerative['texts'] = df_Agglomerative['texts'].apply(lambda x: specialchar_pattern.sub(r'', x))\n",
    "df_Agglomerative['texts'] = df_Agglomerative['texts'].apply(lambda x: number_pattern.sub(r'', x))\n",
    "df_Agglomerative['texts'] = df_Agglomerative['texts'].apply(lambda x: space_pattern.sub(r'', x))\n",
    "df_Agglomerative['texts'] = df_Agglomerative['texts'].apply(lambda x: dot_pattern.sub(r'', x))\n",
    "df_Agglomerative['texts'] = df_Agglomerative['texts'].apply(lambda x: backslash_pattern.sub(r'', x))\n",
    "df_Agglomerative['texts_tokenized'] = df_Agglomerative['texts'].apply(lambda x: tokenize_to_list(x))\n",
    "df_Agglomerative['texts_count'] = df_Agglomerative['texts_tokenized'].apply(lambda x: collections.Counter(x).most_common())"
   ]
  },
  {
   "cell_type": "code",
   "execution_count": 25,
   "metadata": {
    "colab": {
     "base_uri": "https://localhost:8080/"
    },
    "id": "HsRWk5oHd0UH",
    "outputId": "a6ea73e7-3392-4dd2-bee6-e58f5533ef42"
   },
   "outputs": [
    {
     "name": "stdout",
     "output_type": "stream",
     "text": [
      "Cluster ID : 0\n",
      "\n",
      "Most common words include : [('อร่อย', 508), ('ทาน', 416), ('รสชาติ', 382), ('กิน', 339), ('ดี', 322), ('กาแฟ', 311), ('เมนู', 309), ('สั่ง', 301), ('อาหาร', 285), ('ราคา', 273), ('(', 270), (')', 250), ('บาท', 242), ('ชอบ', 229), ('คน', 215), (\"','\", 215), ('ชา', 212), ('หวาน', 206), ('นั่ง', 201), ('จาน', 196)]\n",
      "\n",
      "Cluster ID : 1\n",
      "\n",
      "Most common words include : [('แตงโม', 22), ('น้ำ', 8), ('ปั่น', 6), ('เนื้อ', 6), ('เลือก', 4), ('ซื้อ', 4), ('ดื่ม', 4), ('พันธุ์', 3), ('รับประทาน', 3), ('แก้', 3), ('อาหาร', 3), ('ร่างกาย', 3), ('เมล็ด', 2), ('มีรส', 2), ('หวาน', 2), ('เย็น', 2), ('ยังมี', 2), ('วิตามิน', 2), ('สีแดง', 2), ('ผลไม้', 2)]\n",
      "\n",
      "Cluster ID : 2\n",
      "\n",
      "Most common words include : [('ดิชั้น', 4), ('แย่มาก', 3), ('โต๊ะ', 2), ('รอง', 2), ('แก้ว', 2), (\"['\", 1), ('ดิ', 1), ('ช้ัน', 1), ('ทบ', 1), ('น', 1), ('อาหาร', 1), ('เวลา', 1), ('โมง', 1), ('เย็น', 1), ('แม่ศรี', 1), ('เรือน', 1), ('โฮมโปร', 1), ('แขก', 1), ('พนักงานบริการ', 1), ('เมนู', 1)]\n",
      "\n",
      "Cluster ID : 3\n",
      "\n",
      "Most common words include : [('นม', 3), ('แน่น', 2), ('tamp', 2), ('เท', 2), ('แก้', 2), (\"['\", 1), ('เรื่อง', 1), ('ขนม', 1), ('สันทัด', 1), ('ดังนั้น', 1), ('review', 1), ('เฉพาะเรื่อง', 1), ('กาแฟร้อน', 1), ('nTamp', 1), ('มากเกินไป', 1), ('โถม', 1), ('ย้ำ', 1), ('-', 1), ('รอบ', 1), ('มีผลต่อ', 1)]\n",
      "\n"
     ]
    }
   ],
   "source": [
    "#show top keywords of each cluster\n",
    "\n",
    "top_N_words = 20\n",
    "\n",
    "for i in range(0, len(df_Agglomerative)):\n",
    "  print(f\"Cluster ID : {i}\\n\")\n",
    "  print(f\"Most common words include : {list(df_Agglomerative['texts_count'][i])[:top_N_words]}\\n\")"
   ]
  },
  {
   "cell_type": "markdown",
   "metadata": {
    "id": "3aNJxg2ATtmK"
   },
   "source": [
    "**Step 4 - result discussion**"
   ]
  },
  {
   "cell_type": "markdown",
   "metadata": {
    "id": "cQ2SOjNKT1d7"
   },
   "source": [
    "Step2#ดูคำที่อาจจะรวมกันแล้วมีความหมาย set new_words ใหม่เช่น\n",
    "หัวหิน,ราชเทวี,อเมซอน,รสชาติดี,ชานมไข่มุก, เค้าดาว\n",
    "\n",
    "\n"
   ]
  },
  {
   "cell_type": "markdown",
   "metadata": {
    "id": "j1da2m-eV52J"
   },
   "source": [
    "เจอคำที่พิมพ์ซ้ำ เช่น ยากกกกก, มากกกกกก ควรจะต้องแก้ตอนทำ regex cleansing word แต่ยังหาวิธีทำไม่ทันครับ"
   ]
  },
  {
   "cell_type": "markdown",
   "metadata": {
    "id": "F0w1BOLkWOsk"
   },
   "source": [
    "ดูแล้ว KMEANS จัดกลุ่มได้ดูดี มีความหมายมากกว่าครับ \n",
    "\n",
    "1.   0 รีวิวร้านอาหาร\n",
    "2.   1 รีวิวร้านกาแฟ\n",
    "3.   2 รีวิวชานมไข่มุก\n",
    "4.   3 รีวิวอาหารที่ร้านกาแฟ \n",
    "\n"
   ]
  },
  {
   "cell_type": "markdown",
   "metadata": {
    "id": "ZifC1DxqWOd9"
   },
   "source": []
  }
 ],
 "metadata": {
  "colab": {
   "collapsed_sections": [],
   "name": "Clustering Documents - Universal Sentence Encoder with Clustering.ipynb",
   "provenance": []
  },
  "kernelspec": {
   "display_name": "Python 3",
   "language": "python",
   "name": "python3"
  },
  "language_info": {
   "codemirror_mode": {
    "name": "ipython",
    "version": 3
   },
   "file_extension": ".py",
   "mimetype": "text/x-python",
   "name": "python",
   "nbconvert_exporter": "python",
   "pygments_lexer": "ipython3",
   "version": "3.7.4"
  }
 },
 "nbformat": 4,
 "nbformat_minor": 1
}
